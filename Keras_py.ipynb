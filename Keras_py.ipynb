{
  "nbformat": 4,
  "nbformat_minor": 0,
  "metadata": {
    "colab": {
      "name": "Keras.py",
      "provenance": [],
      "collapsed_sections": [],
      "toc_visible": true
    },
    "kernelspec": {
      "name": "python3",
      "display_name": "Python 3"
    },
    "accelerator": "GPU"
  },
  "cells": [
    {
      "cell_type": "code",
      "metadata": {
        "id": "0niMQPBQ7o4N",
        "colab": {
          "base_uri": "https://localhost:8080/",
          "height": 224
        },
        "outputId": "454348c7-9165-4825-a8a4-5413365cfbc1"
      },
      "source": [
        "!pip install kaggle\n"
      ],
      "execution_count": null,
      "outputs": [
        {
          "output_type": "stream",
          "text": [
            "Requirement already satisfied: kaggle in /usr/local/lib/python3.6/dist-packages (1.5.6)\n",
            "Requirement already satisfied: certifi in /usr/local/lib/python3.6/dist-packages (from kaggle) (2019.11.28)\n",
            "Requirement already satisfied: six>=1.10 in /usr/local/lib/python3.6/dist-packages (from kaggle) (1.12.0)\n",
            "Requirement already satisfied: urllib3<1.25,>=1.21.1 in /usr/local/lib/python3.6/dist-packages (from kaggle) (1.24.3)\n",
            "Requirement already satisfied: python-dateutil in /usr/local/lib/python3.6/dist-packages (from kaggle) (2.8.1)\n",
            "Requirement already satisfied: python-slugify in /usr/local/lib/python3.6/dist-packages (from kaggle) (4.0.0)\n",
            "Requirement already satisfied: tqdm in /usr/local/lib/python3.6/dist-packages (from kaggle) (4.38.0)\n",
            "Requirement already satisfied: requests in /usr/local/lib/python3.6/dist-packages (from kaggle) (2.21.0)\n",
            "Requirement already satisfied: text-unidecode>=1.3 in /usr/local/lib/python3.6/dist-packages (from python-slugify->kaggle) (1.3)\n",
            "Requirement already satisfied: chardet<3.1.0,>=3.0.2 in /usr/local/lib/python3.6/dist-packages (from requests->kaggle) (3.0.4)\n",
            "Requirement already satisfied: idna<2.9,>=2.5 in /usr/local/lib/python3.6/dist-packages (from requests->kaggle) (2.8)\n"
          ],
          "name": "stdout"
        }
      ]
    },
    {
      "cell_type": "code",
      "metadata": {
        "id": "rpD7Uu_Q8CSS",
        "colab": {
          "base_uri": "https://localhost:8080/",
          "height": 34
        },
        "outputId": "054c138e-b79c-4de5-a64a-f5bfaa85d3a9"
      },
      "source": [
        "!mkdir .kaggle\n"
      ],
      "execution_count": null,
      "outputs": [
        {
          "output_type": "stream",
          "text": [
            "mkdir: cannot create directory ‘.kaggle’: File exists\n"
          ],
          "name": "stdout"
        }
      ]
    },
    {
      "cell_type": "code",
      "metadata": {
        "id": "8PRR-K9r8efn"
      },
      "source": [
        "import json\n",
        "token = {\"username\":\"khizer1030\",\"key\":\"974288f4158f8edd30172ada6386253b\"}\n",
        "with open('/content/.kaggle/kaggle.json', 'w') as file:\n",
        "    json.dump(token, file)"
      ],
      "execution_count": null,
      "outputs": []
    },
    {
      "cell_type": "code",
      "metadata": {
        "id": "4BU2J3RS-MWY",
        "colab": {
          "base_uri": "https://localhost:8080/",
          "height": 34
        },
        "outputId": "abde20c2-cdf5-4a21-8e89-3cf9c25d1e98"
      },
      "source": [
        "!cp /content/.kaggle/kaggle.json ~/.kaggle/kaggle.json\n",
        "!kaggle config set -n path -v{/content}\n",
        "!chmod 600 /root/.kaggle/kaggle.json"
      ],
      "execution_count": null,
      "outputs": [
        {
          "output_type": "stream",
          "text": [
            "- path is now set to: {/content}\n"
          ],
          "name": "stdout"
        }
      ]
    },
    {
      "cell_type": "code",
      "metadata": {
        "id": "2-qO0WZEtaK6",
        "colab": {
          "base_uri": "https://localhost:8080/",
          "height": 68
        },
        "outputId": "c82343a6-4123-4778-d4b3-af8860ebfd05"
      },
      "source": [
        "!kaggle datasets download -d alxmamaev/flowers-recognition -p /content --force\n"
      ],
      "execution_count": null,
      "outputs": [
        {
          "output_type": "stream",
          "text": [
            "Downloading flowers-recognition.zip to /content\n",
            " 98% 442M/450M [00:02<00:00, 154MB/s]\n",
            "100% 450M/450M [00:02<00:00, 181MB/s]\n"
          ],
          "name": "stdout"
        }
      ]
    },
    {
      "cell_type": "code",
      "metadata": {
        "id": "8KUJG3k_mZet"
      },
      "source": [
        "!unzip \\*.zip\n"
      ],
      "execution_count": null,
      "outputs": []
    },
    {
      "cell_type": "code",
      "metadata": {
        "id": "gJr_9dXGpJ05",
        "colab": {
          "base_uri": "https://localhost:8080/",
          "height": 34
        },
        "outputId": "cd8fa14b-8305-47b8-c924-92097018c675"
      },
      "source": [
        "\n",
        "# TensorFlow and tf.keras\n",
        "import tensorflow as tf\n",
        "from tensorflow import keras\n",
        "\n",
        "# Helper libraries\n",
        "import matplotlib.pyplot as plt\n",
        "import numpy as np\n",
        "from os import listdir\n",
        "from os.path import join\n",
        "import cv2\n",
        "import pandas\n",
        "import os\n",
        "import random\n",
        "\n",
        "data = \"flowers/flowers/\"\n",
        "# List out the directories inside the main input folder\n",
        "\n",
        "folders = os.listdir(data)\n",
        "\n",
        "print(folders)\n",
        "# Import the images and resize them to a 128*128 size\n",
        "# Also generate the corresponding labels\n",
        "\n",
        "image_names = []\n",
        "train_labels = []\n",
        "train_images = []\n",
        "\n",
        "size = 128,128\n",
        "\n",
        "for folder in folders:\n",
        "    for file in os.listdir(os.path.join(data,folder)):\n",
        "        if file.endswith(\"jpg\"):\n",
        "            image_names.append(os.path.join(data,folder,file))\n",
        "            train_labels.append(folder)\n",
        "            img = cv2.imread(os.path.join(data,folder,file))\n",
        "            im = cv2.resize(img,size)\n",
        "            train_images.append(im)\n",
        "        else:\n",
        "            continue\n",
        "\n"
      ],
      "execution_count": null,
      "outputs": [
        {
          "output_type": "stream",
          "text": [
            "['sunflower', 'tulip', 'daisy', 'rose', 'dandelion']\n"
          ],
          "name": "stdout"
        }
      ]
    },
    {
      "cell_type": "code",
      "metadata": {
        "id": "bZWpdYX8_jRc"
      },
      "source": [
        "train = np.array(train_images)\n",
        "train.shape\n",
        "# Reduce the RGB values between 0 and 1\n",
        "\n",
        "\n",
        "# Extract the labels\n",
        "\n",
        "label_dummies = pandas.get_dummies(train_labels)\n",
        "\n",
        "labels =  label_dummies.values.argmax(1)\n",
        "pandas.unique(train_labels)\n",
        "pandas.unique(labels)\n",
        "# Shuffle the labels and images randomly for better results\n",
        "\n",
        "union_list = list(zip(train, labels))\n",
        "random.shuffle(union_list)\n",
        "train,labels = zip(*union_list)\n",
        "\n",
        "# Convert the shuffled list to numpy array type\n",
        "\n",
        "train = np.array(train)\n",
        "labels = np.array(labels)\n",
        "splitindex = int(len(labels)*0.8)\n",
        "train_setX = np.array(train[0:splitindex])\n",
        "train_setY = np.array((labels[0:splitindex]))\n",
        "test_setX = np.array(train[splitindex:])\n",
        "test_setY = np.array(labels[splitindex:])\n",
        "    #print(label_dummies.columns.values[np.squeeze(train_setY[:,5])])"
      ],
      "execution_count": null,
      "outputs": []
    },
    {
      "cell_type": "code",
      "metadata": {
        "id": "bWukne3O_sUw"
      },
      "source": [
        "from keras import optimizers\n",
        "from keras import regularizers\n",
        "from tensorflow.keras.callbacks import EarlyStopping\n",
        "in1=keras.initializers.he_uniform(seed=None)\n",
        "model = keras.Sequential([\n",
        "    keras.layers.Flatten(input_shape=(128,128,3)),\n",
        "    keras.layers.Dense(256,kernel_initializer=in1),\n",
        "    keras.layers.BatchNormalization(axis=-1, momentum=0.99, epsilon=0.001, center=True, scale=True, beta_initializer='zeros', gamma_initializer='ones', moving_mean_initializer='zeros', moving_variance_initializer='ones', beta_regularizer=None, gamma_regularizer=None, beta_constraint=None, gamma_constraint=None),\n",
        "    keras.layers.Activation(tf.nn.tanh),\n",
        "    keras.layers.Dense(64,kernel_initializer=in1),\n",
        "    keras.layers.BatchNormalization(axis=-1, momentum=0.99, epsilon=0.001, center=True, scale=True, beta_initializer='zeros', gamma_initializer='ones', moving_mean_initializer='zeros', moving_variance_initializer='ones', beta_regularizer=None, gamma_regularizer=None, beta_constraint=None, gamma_constraint=None),\n",
        "    keras.layers.Activation(tf.nn.tanh),\n",
        "    keras.layers.Dense(64,kernel_initializer=in1,kernel_regularizer=regularizers.l2(0.01)),\n",
        "    keras.layers.BatchNormalization(axis=-1, momentum=0.99, epsilon=0.001, center=True, scale=True, beta_initializer='zeros', gamma_initializer='ones', moving_mean_initializer='zeros', moving_variance_initializer='ones', beta_regularizer=None, gamma_regularizer=None, beta_constraint=None, gamma_constraint=None),\n",
        "    keras.layers.Activation(tf.nn.tanh),\n",
        "    keras.layers.Dense(64,kernel_initializer=in1,kernel_regularizer=regularizers.l2(0.01)),\n",
        "    keras.layers.BatchNormalization(axis=-1, momentum=0.99, epsilon=0.001, center=True, scale=True, beta_initializer='zeros', gamma_initializer='ones', moving_mean_initializer='zeros', moving_variance_initializer='ones', beta_regularizer=None, gamma_regularizer=None, beta_constraint=None, gamma_constraint=None),\n",
        "    keras.layers.Activation(tf.nn.tanh),\n",
        "    keras.layers.Dense(5, activation=tf.nn.softmax)\n",
        "])\n",
        "# Compute the model parameters\n",
        "sgd=keras.optimizers.Adam(learning_rate=0.001, beta_1=0.9, beta_2=0.999, amsgrad=False)\n",
        "model.compile(loss='sparse_categorical_crossentropy', optimizer=sgd, metrics=['accuracy'])"
      ],
      "execution_count": null,
      "outputs": []
    },
    {
      "cell_type": "code",
      "metadata": {
        "id": "b2RV5xB8_zBw",
        "colab": {
          "base_uri": "https://localhost:8080/",
          "height": 1000
        },
        "outputId": "156dd05f-b784-49e1-a9a0-c7a424762158"
      },
      "source": [
        "\n",
        "train = train.astype('float32') / 255.0\n",
        "history=model.fit(x=train_setX,y=train_setY,batch_size=64,epochs=100,verbose=1,validation_split=0.1)\n"
      ],
      "execution_count": null,
      "outputs": [
        {
          "output_type": "stream",
          "text": [
            "Epoch 1/100\n",
            "49/49 [==============================] - 0s 10ms/step - loss: 3.7543 - accuracy: 0.3907 - val_loss: 3.5278 - val_accuracy: 0.3844\n",
            "Epoch 2/100\n",
            "49/49 [==============================] - 0s 8ms/step - loss: 3.1447 - accuracy: 0.4798 - val_loss: 3.0432 - val_accuracy: 0.4162\n",
            "Epoch 3/100\n",
            "49/49 [==============================] - 0s 7ms/step - loss: 2.6848 - accuracy: 0.5421 - val_loss: 2.7090 - val_accuracy: 0.4509\n",
            "Epoch 4/100\n",
            "49/49 [==============================] - 0s 7ms/step - loss: 2.2571 - accuracy: 0.6144 - val_loss: 2.5044 - val_accuracy: 0.4335\n",
            "Epoch 5/100\n",
            "49/49 [==============================] - 0s 8ms/step - loss: 1.9059 - accuracy: 0.6799 - val_loss: 2.4906 - val_accuracy: 0.3815\n",
            "Epoch 6/100\n",
            "49/49 [==============================] - 0s 7ms/step - loss: 1.6145 - accuracy: 0.7474 - val_loss: 2.3297 - val_accuracy: 0.3988\n",
            "Epoch 7/100\n",
            "49/49 [==============================] - 0s 7ms/step - loss: 1.3781 - accuracy: 0.7799 - val_loss: 2.3970 - val_accuracy: 0.4104\n",
            "Epoch 8/100\n",
            "49/49 [==============================] - 0s 7ms/step - loss: 1.1510 - accuracy: 0.8268 - val_loss: 2.2472 - val_accuracy: 0.3786\n",
            "Epoch 9/100\n",
            "49/49 [==============================] - 0s 7ms/step - loss: 0.9718 - accuracy: 0.8699 - val_loss: 2.3906 - val_accuracy: 0.4538\n",
            "Epoch 10/100\n",
            "49/49 [==============================] - 0s 7ms/step - loss: 0.8265 - accuracy: 0.9039 - val_loss: 2.4080 - val_accuracy: 0.3786\n",
            "Epoch 11/100\n",
            "49/49 [==============================] - 0s 7ms/step - loss: 0.7569 - accuracy: 0.8962 - val_loss: 2.5548 - val_accuracy: 0.4133\n",
            "Epoch 12/100\n",
            "49/49 [==============================] - 0s 7ms/step - loss: 0.6356 - accuracy: 0.9328 - val_loss: 3.2408 - val_accuracy: 0.3873\n",
            "Epoch 13/100\n",
            "49/49 [==============================] - 0s 7ms/step - loss: 0.6147 - accuracy: 0.9222 - val_loss: 2.6309 - val_accuracy: 0.3584\n",
            "Epoch 14/100\n",
            "49/49 [==============================] - 0s 7ms/step - loss: 0.5070 - accuracy: 0.9422 - val_loss: 3.1072 - val_accuracy: 0.3468\n",
            "Epoch 15/100\n",
            "49/49 [==============================] - 0s 7ms/step - loss: 0.4588 - accuracy: 0.9479 - val_loss: 2.4336 - val_accuracy: 0.4451\n",
            "Epoch 16/100\n",
            "49/49 [==============================] - 0s 7ms/step - loss: 0.3995 - accuracy: 0.9576 - val_loss: 3.7479 - val_accuracy: 0.4162\n",
            "Epoch 17/100\n",
            "49/49 [==============================] - 0s 7ms/step - loss: 0.3985 - accuracy: 0.9447 - val_loss: 3.1986 - val_accuracy: 0.3526\n",
            "Epoch 18/100\n",
            "49/49 [==============================] - 0s 7ms/step - loss: 0.3953 - accuracy: 0.9422 - val_loss: 4.1180 - val_accuracy: 0.3526\n",
            "Epoch 19/100\n",
            "49/49 [==============================] - 0s 7ms/step - loss: 0.3889 - accuracy: 0.9348 - val_loss: 3.5816 - val_accuracy: 0.2919\n",
            "Epoch 20/100\n",
            "49/49 [==============================] - 0s 7ms/step - loss: 0.3066 - accuracy: 0.9582 - val_loss: 2.8871 - val_accuracy: 0.4133\n",
            "Epoch 21/100\n",
            "49/49 [==============================] - 0s 7ms/step - loss: 0.2580 - accuracy: 0.9717 - val_loss: 2.9131 - val_accuracy: 0.4220\n",
            "Epoch 22/100\n",
            "49/49 [==============================] - 0s 7ms/step - loss: 0.2741 - accuracy: 0.9627 - val_loss: 2.8429 - val_accuracy: 0.3526\n",
            "Epoch 23/100\n",
            "49/49 [==============================] - 0s 7ms/step - loss: 0.2234 - accuracy: 0.9769 - val_loss: 3.2313 - val_accuracy: 0.4104\n",
            "Epoch 24/100\n",
            "49/49 [==============================] - 0s 7ms/step - loss: 0.2357 - accuracy: 0.9656 - val_loss: 2.8472 - val_accuracy: 0.4162\n",
            "Epoch 25/100\n",
            "49/49 [==============================] - 0s 7ms/step - loss: 0.2036 - accuracy: 0.9759 - val_loss: 3.4457 - val_accuracy: 0.4220\n",
            "Epoch 26/100\n",
            "49/49 [==============================] - 0s 7ms/step - loss: 0.2017 - accuracy: 0.9666 - val_loss: 3.5439 - val_accuracy: 0.3642\n",
            "Epoch 27/100\n",
            "49/49 [==============================] - 0s 7ms/step - loss: 0.2815 - accuracy: 0.9460 - val_loss: 3.8031 - val_accuracy: 0.3613\n",
            "Epoch 28/100\n",
            "49/49 [==============================] - 0s 8ms/step - loss: 0.2605 - accuracy: 0.9499 - val_loss: 2.9907 - val_accuracy: 0.4451\n",
            "Epoch 29/100\n",
            "49/49 [==============================] - 0s 7ms/step - loss: 0.1774 - accuracy: 0.9756 - val_loss: 3.3091 - val_accuracy: 0.3497\n",
            "Epoch 30/100\n",
            "49/49 [==============================] - 0s 7ms/step - loss: 0.1399 - accuracy: 0.9836 - val_loss: 3.1386 - val_accuracy: 0.4364\n",
            "Epoch 31/100\n",
            "49/49 [==============================] - 0s 7ms/step - loss: 0.1515 - accuracy: 0.9775 - val_loss: 3.2364 - val_accuracy: 0.3642\n",
            "Epoch 32/100\n",
            "49/49 [==============================] - 0s 7ms/step - loss: 0.1565 - accuracy: 0.9740 - val_loss: 2.7743 - val_accuracy: 0.4480\n",
            "Epoch 33/100\n",
            "49/49 [==============================] - 0s 7ms/step - loss: 0.1457 - accuracy: 0.9772 - val_loss: 3.0873 - val_accuracy: 0.4162\n",
            "Epoch 34/100\n",
            "49/49 [==============================] - 0s 7ms/step - loss: 0.1370 - accuracy: 0.9769 - val_loss: 3.1435 - val_accuracy: 0.3960\n",
            "Epoch 35/100\n",
            "49/49 [==============================] - 0s 7ms/step - loss: 0.1460 - accuracy: 0.9727 - val_loss: 3.2380 - val_accuracy: 0.4220\n",
            "Epoch 36/100\n",
            "49/49 [==============================] - 0s 7ms/step - loss: 0.1341 - accuracy: 0.9775 - val_loss: 3.3703 - val_accuracy: 0.4306\n",
            "Epoch 37/100\n",
            "49/49 [==============================] - 0s 7ms/step - loss: 0.1703 - accuracy: 0.9614 - val_loss: 3.3525 - val_accuracy: 0.4220\n",
            "Epoch 38/100\n",
            "49/49 [==============================] - 0s 7ms/step - loss: 0.1331 - accuracy: 0.9775 - val_loss: 2.8310 - val_accuracy: 0.4480\n",
            "Epoch 39/100\n",
            "49/49 [==============================] - 0s 7ms/step - loss: 0.1177 - accuracy: 0.9814 - val_loss: 3.2899 - val_accuracy: 0.4335\n",
            "Epoch 40/100\n",
            "49/49 [==============================] - 0s 7ms/step - loss: 0.1974 - accuracy: 0.9518 - val_loss: 3.2255 - val_accuracy: 0.4220\n",
            "Epoch 41/100\n",
            "49/49 [==============================] - 0s 7ms/step - loss: 0.1404 - accuracy: 0.9724 - val_loss: 3.3083 - val_accuracy: 0.3786\n",
            "Epoch 42/100\n",
            "49/49 [==============================] - 0s 7ms/step - loss: 0.0952 - accuracy: 0.9884 - val_loss: 3.6608 - val_accuracy: 0.4335\n",
            "Epoch 43/100\n",
            "49/49 [==============================] - 0s 7ms/step - loss: 0.0826 - accuracy: 0.9907 - val_loss: 3.2888 - val_accuracy: 0.4335\n",
            "Epoch 44/100\n",
            "49/49 [==============================] - 0s 7ms/step - loss: 0.0780 - accuracy: 0.9900 - val_loss: 3.5556 - val_accuracy: 0.3988\n",
            "Epoch 45/100\n",
            "49/49 [==============================] - 0s 7ms/step - loss: 0.0768 - accuracy: 0.9871 - val_loss: 3.7981 - val_accuracy: 0.4306\n",
            "Epoch 46/100\n",
            "49/49 [==============================] - 0s 7ms/step - loss: 0.1446 - accuracy: 0.9679 - val_loss: 3.0822 - val_accuracy: 0.4075\n",
            "Epoch 47/100\n",
            "49/49 [==============================] - 0s 7ms/step - loss: 0.0977 - accuracy: 0.9826 - val_loss: 2.8704 - val_accuracy: 0.4451\n",
            "Epoch 48/100\n",
            "49/49 [==============================] - 0s 7ms/step - loss: 0.0775 - accuracy: 0.9891 - val_loss: 3.5268 - val_accuracy: 0.3844\n",
            "Epoch 49/100\n",
            "49/49 [==============================] - 0s 7ms/step - loss: 0.1064 - accuracy: 0.9794 - val_loss: 3.2191 - val_accuracy: 0.4104\n",
            "Epoch 50/100\n",
            "49/49 [==============================] - 0s 7ms/step - loss: 0.0739 - accuracy: 0.9891 - val_loss: 3.1972 - val_accuracy: 0.4046\n",
            "Epoch 51/100\n",
            "49/49 [==============================] - 0s 7ms/step - loss: 0.1163 - accuracy: 0.9727 - val_loss: 3.1338 - val_accuracy: 0.4364\n",
            "Epoch 52/100\n",
            "49/49 [==============================] - 0s 7ms/step - loss: 0.1007 - accuracy: 0.9791 - val_loss: 3.9266 - val_accuracy: 0.3642\n",
            "Epoch 53/100\n",
            "49/49 [==============================] - 0s 7ms/step - loss: 0.0949 - accuracy: 0.9801 - val_loss: 3.3618 - val_accuracy: 0.4422\n",
            "Epoch 54/100\n",
            "49/49 [==============================] - 0s 7ms/step - loss: 0.0672 - accuracy: 0.9904 - val_loss: 3.2213 - val_accuracy: 0.4075\n",
            "Epoch 55/100\n",
            "49/49 [==============================] - 0s 7ms/step - loss: 0.0860 - accuracy: 0.9836 - val_loss: 3.5138 - val_accuracy: 0.3815\n",
            "Epoch 56/100\n",
            "49/49 [==============================] - 0s 7ms/step - loss: 0.0658 - accuracy: 0.9878 - val_loss: 3.5290 - val_accuracy: 0.3988\n",
            "Epoch 57/100\n",
            "49/49 [==============================] - 0s 7ms/step - loss: 0.0518 - accuracy: 0.9936 - val_loss: 3.5111 - val_accuracy: 0.4046\n",
            "Epoch 58/100\n",
            "49/49 [==============================] - 0s 7ms/step - loss: 0.0897 - accuracy: 0.9791 - val_loss: 4.2697 - val_accuracy: 0.3815\n",
            "Epoch 59/100\n",
            "49/49 [==============================] - 0s 7ms/step - loss: 0.1372 - accuracy: 0.9656 - val_loss: 3.7599 - val_accuracy: 0.3873\n",
            "Epoch 60/100\n",
            "49/49 [==============================] - 0s 7ms/step - loss: 0.0799 - accuracy: 0.9836 - val_loss: 3.9324 - val_accuracy: 0.3699\n",
            "Epoch 61/100\n",
            "49/49 [==============================] - 0s 7ms/step - loss: 0.0892 - accuracy: 0.9826 - val_loss: 3.3133 - val_accuracy: 0.4191\n",
            "Epoch 62/100\n",
            "49/49 [==============================] - 0s 7ms/step - loss: 0.0913 - accuracy: 0.9781 - val_loss: 3.4784 - val_accuracy: 0.4046\n",
            "Epoch 63/100\n",
            "49/49 [==============================] - 0s 7ms/step - loss: 0.0661 - accuracy: 0.9875 - val_loss: 3.9424 - val_accuracy: 0.4306\n",
            "Epoch 64/100\n",
            "49/49 [==============================] - 0s 7ms/step - loss: 0.0810 - accuracy: 0.9826 - val_loss: 3.7543 - val_accuracy: 0.4104\n",
            "Epoch 65/100\n",
            "49/49 [==============================] - 0s 7ms/step - loss: 0.1035 - accuracy: 0.9765 - val_loss: 3.1403 - val_accuracy: 0.4017\n",
            "Epoch 66/100\n",
            "49/49 [==============================] - 0s 7ms/step - loss: 0.0752 - accuracy: 0.9855 - val_loss: 3.1752 - val_accuracy: 0.4220\n",
            "Epoch 67/100\n",
            "49/49 [==============================] - 0s 7ms/step - loss: 0.0534 - accuracy: 0.9913 - val_loss: 3.2946 - val_accuracy: 0.4306\n",
            "Epoch 68/100\n",
            "49/49 [==============================] - 0s 7ms/step - loss: 0.0536 - accuracy: 0.9920 - val_loss: 3.3966 - val_accuracy: 0.4480\n",
            "Epoch 69/100\n",
            "49/49 [==============================] - 0s 7ms/step - loss: 0.0554 - accuracy: 0.9884 - val_loss: 3.9688 - val_accuracy: 0.3844\n",
            "Epoch 70/100\n",
            "49/49 [==============================] - 0s 7ms/step - loss: 0.0662 - accuracy: 0.9862 - val_loss: 3.3104 - val_accuracy: 0.4104\n",
            "Epoch 71/100\n",
            "49/49 [==============================] - 0s 7ms/step - loss: 0.0579 - accuracy: 0.9916 - val_loss: 4.1877 - val_accuracy: 0.4133\n",
            "Epoch 72/100\n",
            "49/49 [==============================] - 0s 7ms/step - loss: 0.0534 - accuracy: 0.9888 - val_loss: 3.5509 - val_accuracy: 0.4046\n",
            "Epoch 73/100\n",
            "49/49 [==============================] - 0s 7ms/step - loss: 0.0703 - accuracy: 0.9849 - val_loss: 4.4215 - val_accuracy: 0.4046\n",
            "Epoch 74/100\n",
            "49/49 [==============================] - 0s 7ms/step - loss: 0.0745 - accuracy: 0.9817 - val_loss: 3.9684 - val_accuracy: 0.3960\n",
            "Epoch 75/100\n",
            "49/49 [==============================] - 0s 7ms/step - loss: 0.0688 - accuracy: 0.9833 - val_loss: 3.9139 - val_accuracy: 0.3902\n",
            "Epoch 76/100\n",
            "49/49 [==============================] - 0s 7ms/step - loss: 0.0514 - accuracy: 0.9904 - val_loss: 3.6488 - val_accuracy: 0.4191\n",
            "Epoch 77/100\n",
            "49/49 [==============================] - 0s 7ms/step - loss: 0.0820 - accuracy: 0.9794 - val_loss: 5.4341 - val_accuracy: 0.3208\n",
            "Epoch 78/100\n",
            "49/49 [==============================] - 0s 7ms/step - loss: 0.1360 - accuracy: 0.9634 - val_loss: 4.1072 - val_accuracy: 0.3613\n",
            "Epoch 79/100\n",
            "49/49 [==============================] - 0s 7ms/step - loss: 0.0666 - accuracy: 0.9875 - val_loss: 3.2645 - val_accuracy: 0.4075\n",
            "Epoch 80/100\n",
            "49/49 [==============================] - 0s 7ms/step - loss: 0.0621 - accuracy: 0.9897 - val_loss: 4.1001 - val_accuracy: 0.3642\n",
            "Epoch 81/100\n",
            "49/49 [==============================] - 0s 7ms/step - loss: 0.0680 - accuracy: 0.9862 - val_loss: 4.0874 - val_accuracy: 0.3613\n",
            "Epoch 82/100\n",
            "49/49 [==============================] - 0s 7ms/step - loss: 0.0986 - accuracy: 0.9769 - val_loss: 3.5884 - val_accuracy: 0.3873\n",
            "Epoch 83/100\n",
            "49/49 [==============================] - 0s 7ms/step - loss: 0.0910 - accuracy: 0.9769 - val_loss: 3.5923 - val_accuracy: 0.4133\n",
            "Epoch 84/100\n",
            "49/49 [==============================] - 0s 7ms/step - loss: 0.0552 - accuracy: 0.9910 - val_loss: 3.4782 - val_accuracy: 0.4422\n",
            "Epoch 85/100\n",
            "49/49 [==============================] - 0s 7ms/step - loss: 0.0346 - accuracy: 0.9968 - val_loss: 3.5782 - val_accuracy: 0.3931\n",
            "Epoch 86/100\n",
            "49/49 [==============================] - 0s 7ms/step - loss: 0.0345 - accuracy: 0.9971 - val_loss: 3.2869 - val_accuracy: 0.4566\n",
            "Epoch 87/100\n",
            "49/49 [==============================] - 0s 7ms/step - loss: 0.0301 - accuracy: 0.9968 - val_loss: 3.3135 - val_accuracy: 0.4220\n",
            "Epoch 88/100\n",
            "49/49 [==============================] - 0s 7ms/step - loss: 0.0232 - accuracy: 0.9987 - val_loss: 3.4948 - val_accuracy: 0.4249\n",
            "Epoch 89/100\n",
            "49/49 [==============================] - 0s 7ms/step - loss: 0.0201 - accuracy: 0.9987 - val_loss: 3.2592 - val_accuracy: 0.4509\n",
            "Epoch 90/100\n",
            "49/49 [==============================] - 0s 7ms/step - loss: 0.0165 - accuracy: 0.9994 - val_loss: 3.0800 - val_accuracy: 0.4538\n",
            "Epoch 91/100\n",
            "49/49 [==============================] - 0s 7ms/step - loss: 0.0142 - accuracy: 0.9994 - val_loss: 3.0603 - val_accuracy: 0.4566\n",
            "Epoch 92/100\n",
            "49/49 [==============================] - 0s 7ms/step - loss: 0.0123 - accuracy: 0.9997 - val_loss: 2.9877 - val_accuracy: 0.4566\n",
            "Epoch 93/100\n",
            "49/49 [==============================] - 0s 7ms/step - loss: 0.0108 - accuracy: 0.9997 - val_loss: 2.9633 - val_accuracy: 0.4595\n",
            "Epoch 94/100\n",
            "49/49 [==============================] - 0s 7ms/step - loss: 0.0102 - accuracy: 0.9997 - val_loss: 2.9666 - val_accuracy: 0.4595\n",
            "Epoch 95/100\n",
            "49/49 [==============================] - 0s 7ms/step - loss: 0.0105 - accuracy: 0.9990 - val_loss: 3.4591 - val_accuracy: 0.4104\n",
            "Epoch 96/100\n",
            "49/49 [==============================] - 0s 7ms/step - loss: 0.0162 - accuracy: 0.9971 - val_loss: 3.7255 - val_accuracy: 0.4249\n",
            "Epoch 97/100\n",
            "49/49 [==============================] - 0s 7ms/step - loss: 0.0358 - accuracy: 0.9923 - val_loss: 4.0552 - val_accuracy: 0.3642\n",
            "Epoch 98/100\n",
            "49/49 [==============================] - 0s 7ms/step - loss: 0.2673 - accuracy: 0.9216 - val_loss: 3.9706 - val_accuracy: 0.4017\n",
            "Epoch 99/100\n",
            "49/49 [==============================] - 0s 7ms/step - loss: 0.1543 - accuracy: 0.9557 - val_loss: 3.7517 - val_accuracy: 0.3699\n",
            "Epoch 100/100\n",
            "49/49 [==============================] - 0s 7ms/step - loss: 0.0986 - accuracy: 0.9765 - val_loss: 3.8102 - val_accuracy: 0.3728\n"
          ],
          "name": "stdout"
        }
      ]
    },
    {
      "cell_type": "code",
      "metadata": {
        "id": "uamn6Gq3AWp9",
        "colab": {
          "base_uri": "https://localhost:8080/",
          "height": 51
        },
        "outputId": "526e8958-879f-4b9b-ed15-8e31922f0e34"
      },
      "source": [
        "model.evaluate(x=test_setX,y=test_setY)"
      ],
      "execution_count": null,
      "outputs": [
        {
          "output_type": "stream",
          "text": [
            "28/28 [==============================] - 0s 3ms/step - loss: 4.0248 - accuracy: 0.3757\n"
          ],
          "name": "stdout"
        },
        {
          "output_type": "execute_result",
          "data": {
            "text/plain": [
              "[4.024767875671387, 0.3757225573062897]"
            ]
          },
          "metadata": {
            "tags": []
          },
          "execution_count": 29
        }
      ]
    },
    {
      "cell_type": "code",
      "metadata": {
        "id": "vMj3AM_Gx98E",
        "colab": {
          "base_uri": "https://localhost:8080/",
          "height": 573
        },
        "outputId": "ec587b25-35e8-425d-f5a2-98feef12456b"
      },
      "source": [
        "import matplotlib.pyplot as plt\n",
        "\n",
        "plt.plot(history.history['accuracy'])\n",
        "plt.plot(history.history['val_accuracy'])\n",
        "plt.title('Model accuracy')\n",
        "plt.ylabel('Accuracy')\n",
        "plt.xlabel('Epoch')\n",
        "plt.legend(['Train', 'Test'], loc='upper left')\n",
        "plt.show()\n",
        "\n",
        "# Plot training & validation loss values\n",
        "plt.plot(history.history['loss'])\n",
        "plt.plot(history.history['val_loss'])\n",
        "plt.title('Model loss')\n",
        "plt.ylabel('Loss')\n",
        "plt.xlabel('Epoch')\n",
        "plt.legend(['Train', 'Test'], loc='upper left')\n",
        "plt.show()"
      ],
      "execution_count": null,
      "outputs": [
        {
          "output_type": "display_data",
          "data": {
            "image/png": "[encoded data removed]",
            "text/plain": [
              "<Figure size 432x288 with 1 Axes>"
            ]
          },
          "metadata": {
            "tags": []
          }
        },
        {
          "output_type": "display_data",
          "data": {
            "image/png": "[encoded data removed]",
            "text/plain": [
              "<Figure size 432x288 with 1 Axes>"
            ]
          },
          "metadata": {
            "tags": []
          }
        }
      ]
    },
    {
      "cell_type": "code",
      "metadata": {
        "id": "-pouvE7l9b77"
      },
      "source": [
        ""
      ],
      "execution_count": null,
      "outputs": []
    }
  ]
}